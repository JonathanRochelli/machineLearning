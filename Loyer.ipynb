{
 "cells": [
  {
   "cell_type": "code",
   "execution_count": 1,
   "metadata": {
    "scrolled": true
   },
   "outputs": [
    {
     "name": "stdout",
     "output_type": "stream",
     "text": [
      "Estimation du prix du loyer pour une surface donnée par:\n",
      "-> Régression linéaire\n",
      "-> Régression linéaire multiple\n",
      "-> Méthode des k-NN\n"
     ]
    }
   ],
   "source": [
    "print (\"Estimation du prix du loyer pour une surface donnée par:\\n-> Régression linéaire\\n-> Régression linéaire multiple\\n-> Méthode des k-NN\")"
   ]
  },
  {
   "cell_type": "code",
   "execution_count": 2,
   "metadata": {},
   "outputs": [],
   "source": [
    "# On importe les librairies dont on aura besoin pour ce tp\n",
    "import pandas as pd  \n",
    "import numpy as np  \n",
    "import matplotlib.pyplot as plt  \n",
    "import seaborn as seabornInstance \n",
    "from sklearn.model_selection import train_test_split \n",
    "from sklearn.linear_model import LinearRegression\n",
    "from sklearn import metrics\n",
    "from sklearn import neighbors\n",
    "%matplotlib inline"
   ]
  },
  {
   "cell_type": "code",
   "execution_count": 3,
   "metadata": {},
   "outputs": [
    {
     "name": "stdout",
     "output_type": "stream",
     "text": [
      "Graphique du prix d'un loyer en fonction de la surface :\n"
     ]
    },
    {
     "data": {
      "image/png": "[encoded data removed]",
      "text/plain": [
       "<Figure size 432x288 with 1 Axes>"
      ]
     },
     "metadata": {
      "needs_background": "light"
     },
     "output_type": "display_data"
    }
   ],
   "source": [
    "print(\"Graphique du prix d'un loyer en fonction de la surface :\")\n",
    "\n",
    "# On charge le dataset\n",
    "house_data = pd.read_csv('house.csv')\n",
    "house_data = house_data[house_data['loyer'] < 10000]\n",
    "\n",
    "# On affiche le nuage de points dont on dispose\n",
    "plt.plot(house_data['surface'], house_data['loyer'], 'ro', markersize=4)\n",
    "plt.show()"
   ]
  },
  {
   "cell_type": "code",
   "execution_count": 4,
   "metadata": {},
   "outputs": [
    {
     "name": "stdout",
     "output_type": "stream",
     "text": [
      "Theta : [[266.45460292]\n",
      " [ 30.66119596]] \n",
      "\n",
      "Graphique du prix d'un loyer en fonction de la surface avec doite de régression\n"
     ]
    },
    {
     "data": {
      "image/png": "[encoded data removed]",
      "text/plain": [
       "<Figure size 432x288 with 1 Axes>"
      ]
     },
     "metadata": {
      "needs_background": "light"
     },
     "output_type": "display_data"
    },
    {
     "name": "stdout",
     "output_type": "stream",
     "text": [
      "Estimation : Le prix d'un appartement de 35m2 est de : 1339.5964615602256\n"
     ]
    }
   ],
   "source": [
    "#Calcul de theta\n",
    "# On décompose le dataset et on le transforme en matrices pour pouvoir effectuer notre calcul\n",
    "X = np.matrix([np.ones(house_data.shape[0]), house_data['surface'].values]).T\n",
    "y = np.matrix(house_data['loyer']).T\n",
    "\n",
    "# On effectue le calcul exact du paramètre theta\n",
    "theta = np.linalg.inv(X.T.dot(X)).dot(X.T).dot(y)\n",
    "\n",
    "#Affichage\n",
    "print(\"Theta :\", theta, \"\\n\")\n",
    "print(\"Graphique du prix d'un loyer en fonction de la surface avec doite de régression\")\n",
    "\n",
    "#Labels\n",
    "plt.xlabel('Surface')\n",
    "plt.ylabel('Loyer')\n",
    "\n",
    "#Affiche le nuage de points dont on dispose\n",
    "plt.plot(house_data['surface'], house_data['loyer'], 'ro', markersize=4)\n",
    "\n",
    "# On affiche la droite entre 0 et 250\n",
    "plt.plot([0,250], [theta.item(0),theta.item(0) + 250 * theta.item(1)], linestyle='--', c='#000000')\n",
    "\n",
    "#Affichage\n",
    "plt.show()\n",
    "\n",
    "#Affichage d'un loyer estimé\n",
    "print(\"Estimation : Le prix d'un appartement de 35m2 est de : \"+ str(theta.item(0) + theta.item(1) * 35))"
   ]
  },
  {
   "cell_type": "code",
   "execution_count": 5,
   "metadata": {},
   "outputs": [
    {
     "name": "stdout",
     "output_type": "stream",
     "text": [
      "Estimation du prix du loyer d'une surface par régression linéaire\n",
      "\n",
      "Erreur : 0.8244114491053267 \n",
      "\n",
      "     Loyer         Prix\n",
      "0       23   956.279487\n",
      "1       16   738.025402\n",
      "2       33  1268.071036\n",
      "3      127  4198.911604\n",
      "4       58  2047.549910\n",
      "..     ...          ...\n",
      "103     27  1080.996106\n",
      "104    120  3980.657519\n",
      "105     32  1236.891881\n",
      "106    124  4105.374139\n",
      "107     81  2764.670475\n",
      "\n",
      "[108 rows x 2 columns]\n"
     ]
    }
   ],
   "source": [
    "#Estimation du prix du loyer par régression linéaire\n",
    "print(\"Estimation du prix du loyer d'une surface par régression linéaire\\n\")\n",
    "\n",
    "#Récupération du fichier\n",
    "house_data = pd.read_csv('house.csv')\n",
    "house_data = house_data[house_data['loyer'] < 10000]\n",
    "\n",
    "# Régression linéaire à 2 paramètres\n",
    "regr = LinearRegression()\n",
    "X = house_data['surface'].values.reshape(-1,1)\n",
    "y = house_data['loyer'].values.reshape(-1,1)\n",
    "\n",
    "#Entrainement \n",
    "X_train, X_test, y_train, y_test = train_test_split(X, y, test_size=0.2, random_state=0)\n",
    "regr.fit(X_train, y_train)\n",
    "\n",
    "#Taux d'erreur\n",
    "print (\"Erreur :\",regr.score(X, y), \"\\n\")\n",
    "\n",
    "#Prédiction\n",
    "y_pred = regr.predict(X_test)\n",
    "\n",
    "#Affichage du tableau\n",
    "df = pd.DataFrame({'Loyer': X_test.flatten(), 'Prix': y_pred.flatten()})\n",
    "print(df)\n"
   ]
  },
  {
   "cell_type": "code",
   "execution_count": 6,
   "metadata": {},
   "outputs": [
    {
     "name": "stdout",
     "output_type": "stream",
     "text": [
      "Estimation du prix du loyer par rapport à un arrondissement et un surface par mutliple régression linéaire\n",
      "\n",
      "Erreur : 0.8133537342887921 \n",
      "\n",
      "      Loyer  Arrondissement         Prix\n",
      "0     49.46               4  1694.241295\n",
      "1     35.00               2  1390.148890\n",
      "2     71.00               1  2429.344377\n",
      "3     54.00               4  1819.345095\n",
      "4     96.00               1  3118.241954\n",
      "..      ...             ...          ...\n",
      "159   24.00               1  1134.216932\n",
      "160   60.00               3  2031.863490\n",
      "161   34.00               2  1362.592987\n",
      "162  145.98               1  4495.485990\n",
      "163   70.00               1  2401.788474\n",
      "\n",
      "[164 rows x 3 columns]\n"
     ]
    }
   ],
   "source": [
    "#Estimation du prix du loyer par régression linéaire multiple\n",
    "print(\"Estimation du prix du loyer par rapport à un arrondissement et un surface par mutliple régression linéaire\\n\")\n",
    "\n",
    "#Récupération du fichier avec les arrondissement\n",
    "house_data = pd.read_csv('house_data.csv')\n",
    "house_data = house_data[house_data['price'] < 10000]\n",
    "\n",
    "#Nettoyage des données\n",
    "house_data.shape\n",
    "house_data.isnull().any()\n",
    "house_data = house_data.fillna(method='ffill')\n",
    "\n",
    "# Régression linéaire à paramètres multiples\n",
    "regr = LinearRegression()\n",
    "X = house_data[['surface', 'arrondissement']].values\n",
    "y = house_data['price'].values\n",
    "\n",
    "#Entrainement \n",
    "X_train, X_test, y_train, y_test = train_test_split(X, y, test_size=0.2, random_state=0)\n",
    "regr.fit(X_train, y_train)\n",
    "\n",
    "#Taux d'erreur\n",
    "print (\"Erreur :\",regr.score(X, y), \"\\n\")\n",
    "\n",
    "#Prédiction\n",
    "y_pred = regr.predict(X_test)\n",
    "\n",
    "#Affichage du tableau\n",
    "loyer = [float(elt[0]) for elt in X_test]\n",
    "arrondissement = [int(elt[1]) for elt in X_test]\n",
    "df = pd.DataFrame({'Loyer': loyer, 'Arrondissement':arrondissement, 'Prix': y_pred.flatten()})\n",
    "print(df)"
   ]
  },
  {
   "cell_type": "code",
   "execution_count": 7,
   "metadata": {},
   "outputs": [
    {
     "name": "stdout",
     "output_type": "stream",
     "text": [
      "Estimation du prix du loyer d'une surface par la méthode des k-NN\n",
      "\n",
      "Erreur: 0.610024 \n",
      "\n",
      "Graphique du taux d'erreur suivant la valeur de k\n",
      "\n"
     ]
    },
    {
     "data": {
      "image/png": "[encoded data removed]",
      "text/plain": [
       "<Figure size 432x288 with 1 Axes>"
      ]
     },
     "metadata": {
      "needs_background": "light"
     },
     "output_type": "display_data"
    },
    {
     "name": "stdout",
     "output_type": "stream",
     "text": [
      "     Loyer  Arrondissement  Prix\n",
      "0    131.0               2  2900\n",
      "1     60.0               4  1732\n",
      "2     46.0              10  1200\n",
      "3     25.0              10   733\n",
      "4     20.0               4   815\n",
      "..     ...             ...   ...\n",
      "159   18.0               2   754\n",
      "160   50.0              10  1550\n",
      "161   54.0               3  1945\n",
      "162   42.0               4  1400\n",
      "163   64.0               4  1750\n",
      "\n",
      "[164 rows x 3 columns]\n"
     ]
    }
   ],
   "source": [
    "#Estimation du prix du loyer par la méthode des k-NN\n",
    "print(\"Estimation du prix du loyer d'une surface par la méthode des k-NN\\n\")\n",
    "\n",
    "#Récupération du fichier avec les arrondissement\n",
    "house_data = pd.read_csv('house_data.csv')\n",
    "house_data = house_data[house_data['price'] < 10000]\n",
    "\n",
    "#Nettoyage des données\n",
    "house_data.shape\n",
    "house_data.isnull().any()\n",
    "house_data = house_data.fillna(method='ffill')\n",
    "\n",
    "# Régression linéaire à paramètres multiples\n",
    "X = house_data[['surface', 'arrondissement']].values\n",
    "y = house_data['price']\n",
    "\n",
    "#Entrainement\n",
    "xtrain, xtest, ytrain, ytest = train_test_split(X, y, train_size=0.8)\n",
    "knn = neighbors.KNeighborsClassifier(n_neighbors=3)\n",
    "knn.fit(X, y)\n",
    "\n",
    "#Taux d'erreur\n",
    "error = 1 - knn.score(X, y)\n",
    "print('Erreur: %f' % error, \"\\n\")\n",
    "\n",
    "#Recherche du taux d'erreur optimal\n",
    "errors = []\n",
    "for k in range(2,25):\n",
    "    knn = neighbors.KNeighborsClassifier(k)\n",
    "    errors.append(100*(1 - knn.fit(X, y).score(X, y)))\n",
    "plt.plot(range(2,25), errors, 'o-')\n",
    "print(\"Graphique du taux d'erreur suivant la valeur de k\\n\")\n",
    "plt.show()\n",
    "\n",
    "# On récupère le classifieur le plus performant\n",
    "knn = neighbors.KNeighborsClassifier(2)\n",
    "knn.fit(xtrain, ytrain)\n",
    "\n",
    "# On récupère les prédictions sur les données test\n",
    "predicted = knn.predict(xtest)\n",
    "\n",
    "#Affichage du tableau\n",
    "loyer = [float(elt[0]) for elt in xtest]\n",
    "arrondissement = [int(elt[1]) for elt in xtest]\n",
    "df = pd.DataFrame({'Loyer': loyer, 'Arrondissement':arrondissement, 'Prix': predicted.flatten()})\n",
    "print(df)"
   ]
  }
 ],
 "metadata": {
  "kernelspec": {
   "display_name": "Python 3",
   "language": "python",
   "name": "python3"
  },
  "language_info": {
   "codemirror_mode": {
    "name": "ipython",
    "version": 3
   },
   "file_extension": ".py",
   "mimetype": "text/x-python",
   "name": "python",
   "nbconvert_exporter": "python",
   "pygments_lexer": "ipython3",
   "version": "3.7.4"
  }
 },
 "nbformat": 4,
 "nbformat_minor": 2
}
